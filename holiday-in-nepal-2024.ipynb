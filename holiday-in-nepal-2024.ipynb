{
 "cells": [
  {
   "cell_type": "code",
   "execution_count": 1,
   "id": "f7e25761",
   "metadata": {
    "_cell_guid": "b1076dfc-b9ad-4769-8c92-a6c4dae69d19",
    "_uuid": "8f2839f25d086af736a60e9eeb907d3b93b6e0e5",
    "execution": {
     "iopub.execute_input": "2024-05-20T01:53:28.010420Z",
     "iopub.status.busy": "2024-05-20T01:53:28.009786Z",
     "iopub.status.idle": "2024-05-20T01:53:29.038593Z",
     "shell.execute_reply": "2024-05-20T01:53:29.037498Z"
    },
    "papermill": {
     "duration": 1.036737,
     "end_time": "2024-05-20T01:53:29.041172",
     "exception": false,
     "start_time": "2024-05-20T01:53:28.004435",
     "status": "completed"
    },
    "tags": []
   },
   "outputs": [],
   "source": [
    "#importing...\n",
    "\n",
    "import requests\n",
    "import pandas as pd\n",
    "from bs4 import BeautifulSoup"
   ]
  },
  {
   "cell_type": "code",
   "execution_count": 2,
   "id": "002272b7",
   "metadata": {
    "execution": {
     "iopub.execute_input": "2024-05-20T01:53:29.051442Z",
     "iopub.status.busy": "2024-05-20T01:53:29.050933Z",
     "iopub.status.idle": "2024-05-20T01:53:29.055440Z",
     "shell.execute_reply": "2024-05-20T01:53:29.054446Z"
    },
    "papermill": {
     "duration": 0.010723,
     "end_time": "2024-05-20T01:53:29.057248",
     "exception": false,
     "start_time": "2024-05-20T01:53:29.046525",
     "status": "completed"
    },
    "tags": []
   },
   "outputs": [],
   "source": [
    "#targetted content\n",
    "\n",
    "url = \"https://www.timeanddate.com/holidays/nepal/2024\""
   ]
  },
  {
   "cell_type": "code",
   "execution_count": 3,
   "id": "4df2a8d0",
   "metadata": {
    "execution": {
     "iopub.execute_input": "2024-05-20T01:53:29.065197Z",
     "iopub.status.busy": "2024-05-20T01:53:29.064811Z",
     "iopub.status.idle": "2024-05-20T01:53:29.227745Z",
     "shell.execute_reply": "2024-05-20T01:53:29.226848Z"
    },
    "papermill": {
     "duration": 0.169657,
     "end_time": "2024-05-20T01:53:29.230218",
     "exception": false,
     "start_time": "2024-05-20T01:53:29.060561",
     "status": "completed"
    },
    "tags": []
   },
   "outputs": [],
   "source": [
    "#getting...\n",
    "\n",
    "response = requests.get(url)\n",
    "response.raise_for_status()"
   ]
  },
  {
   "cell_type": "code",
   "execution_count": 4,
   "id": "5531df60",
   "metadata": {
    "execution": {
     "iopub.execute_input": "2024-05-20T01:53:29.238695Z",
     "iopub.status.busy": "2024-05-20T01:53:29.237922Z",
     "iopub.status.idle": "2024-05-20T01:53:29.299723Z",
     "shell.execute_reply": "2024-05-20T01:53:29.298671Z"
    },
    "papermill": {
     "duration": 0.068999,
     "end_time": "2024-05-20T01:53:29.302582",
     "exception": false,
     "start_time": "2024-05-20T01:53:29.233583",
     "status": "completed"
    },
    "tags": []
   },
   "outputs": [],
   "source": [
    "#parse html\n",
    "\n",
    "soup = BeautifulSoup(response.content, 'html.parser')"
   ]
  },
  {
   "cell_type": "code",
   "execution_count": 5,
   "id": "ea92a7a6",
   "metadata": {
    "execution": {
     "iopub.execute_input": "2024-05-20T01:53:29.311228Z",
     "iopub.status.busy": "2024-05-20T01:53:29.310828Z",
     "iopub.status.idle": "2024-05-20T01:53:29.316749Z",
     "shell.execute_reply": "2024-05-20T01:53:29.315512Z"
    },
    "papermill": {
     "duration": 0.012727,
     "end_time": "2024-05-20T01:53:29.318904",
     "exception": false,
     "start_time": "2024-05-20T01:53:29.306177",
     "status": "completed"
    },
    "tags": []
   },
   "outputs": [],
   "source": [
    "#finding table with that class...\n",
    "\n",
    "table = soup.find('table', class_='table--holidaycountry')\n",
    "if not table:\n",
    "    raise ValueError(\"Could not find the holiday table on the page\")"
   ]
  },
  {
   "cell_type": "code",
   "execution_count": 6,
   "id": "98a5d00b",
   "metadata": {
    "execution": {
     "iopub.execute_input": "2024-05-20T01:53:29.327346Z",
     "iopub.status.busy": "2024-05-20T01:53:29.326986Z",
     "iopub.status.idle": "2024-05-20T01:53:29.332914Z",
     "shell.execute_reply": "2024-05-20T01:53:29.331828Z"
    },
    "papermill": {
     "duration": 0.013631,
     "end_time": "2024-05-20T01:53:29.335902",
     "exception": false,
     "start_time": "2024-05-20T01:53:29.322271",
     "status": "completed"
    },
    "tags": []
   },
   "outputs": [
    {
     "name": "stdout",
     "output_type": "stream",
     "text": [
      "Headers: ['Date', '', 'Name', 'Type']\n"
     ]
    }
   ],
   "source": [
    "headers = [header.text.strip() for header in table.find('tr').find_all('th')]\n",
    "print(f\"Headers: {headers}\")"
   ]
  },
  {
   "cell_type": "code",
   "execution_count": 7,
   "id": "633a42e1",
   "metadata": {
    "execution": {
     "iopub.execute_input": "2024-05-20T01:53:29.345165Z",
     "iopub.status.busy": "2024-05-20T01:53:29.344779Z",
     "iopub.status.idle": "2024-05-20T01:53:29.350036Z",
     "shell.execute_reply": "2024-05-20T01:53:29.349001Z"
    },
    "papermill": {
     "duration": 0.012347,
     "end_time": "2024-05-20T01:53:29.352396",
     "exception": false,
     "start_time": "2024-05-20T01:53:29.340049",
     "status": "completed"
    },
    "tags": []
   },
   "outputs": [
    {
     "name": "stdout",
     "output_type": "stream",
     "text": [
      "Number of rows found (excluding header): 61\n"
     ]
    }
   ],
   "source": [
    "rows = table.find_all('tr')[1:]  # Skip the header row\n",
    "print(f\"Number of rows found (excluding header): {len(rows)}\")"
   ]
  },
  {
   "cell_type": "code",
   "execution_count": 8,
   "id": "541d0c3f",
   "metadata": {
    "execution": {
     "iopub.execute_input": "2024-05-20T01:53:29.360977Z",
     "iopub.status.busy": "2024-05-20T01:53:29.360621Z",
     "iopub.status.idle": "2024-05-20T01:53:29.367982Z",
     "shell.execute_reply": "2024-05-20T01:53:29.366806Z"
    },
    "papermill": {
     "duration": 0.014387,
     "end_time": "2024-05-20T01:53:29.370361",
     "exception": false,
     "start_time": "2024-05-20T01:53:29.355974",
     "status": "completed"
    },
    "tags": []
   },
   "outputs": [
    {
     "name": "stdout",
     "output_type": "stream",
     "text": [
      "Data: [['Friday', 'Prithvi Jayanti', 'Public Holiday'], ['Monday', 'Maghe Sankranti', 'Public Holiday'], ['Saturday', 'Sonam Losar (Tamang New Year)', 'Optional Holiday'], ['Monday', 'National Democracy Day', 'Public Holiday'], ['Friday', 'Maha Shivaratri', 'Public Holiday'], ['Friday', 'Nari Dibas', 'Public Holiday'], ['Monday', 'Gyalpo Losar', 'Optional Holiday'], ['Tuesday', 'Ramadan Start', 'Observance'], ['Wednesday', 'March Equinox', 'Season'], ['Sunday', 'Holi Purnima (Hill region)', 'Local holiday'], ['Monday', 'Holi Purnima (Terai region)', 'Local holiday'], ['Monday', 'Godhe Yatra', 'Local holiday'], ['Thursday', 'Ramjan Edul Fikra', 'Optional Holiday'], ['Saturday', 'Nepali New Year', 'Public Holiday'], ['Wednesday', 'Ram Nawami', 'Public Holiday'], ['Tuesday', \"Holiday for Emir of Qatar's Visit\", 'Public Holiday'], ['Wednesday', 'Majdoor Divas', 'Public Holiday'], ['Thursday', 'Buddha Jayanti (Tentative Date)', 'Public Holiday'], ['Thursday', 'Ubhauli Parva', 'Optional Holiday'], ['Tuesday', 'Ganatantra Diwas (Republic Day)', 'Public Holiday'], ['Monday', 'Edul Aajaha (Tentative Date)', 'Optional Holiday'], ['Friday', 'June Solstice', 'Season'], ['Monday', 'Janai Purnima', 'Public Holiday'], ['Tuesday', 'Gai Jatra', 'Public Holiday'], ['Monday', 'Gaura Parba', 'Optional Holiday'], ['Monday', 'Shree Krishna Janamashtami', 'Public Holiday'], ['Friday', 'Hartalika Teej', 'Optional Holiday'], ['Tuesday', 'Indra Jatra', 'Local holiday'], ['Thursday', 'Constitution Day', 'Public Holiday'], ['Sunday', 'September Equinox', 'Season'], ['Wednesday', 'Jitiya Parwa', 'Optional Holiday'], ['Thursday', 'Ghatasthapana', 'Public Holiday'], ['Thursday', 'Phulpati (Dashain)', 'Public Holiday'], ['Thursday', 'Astami (Dashain)', 'Public Holiday'], ['Friday', 'Nawami (Dashain)', 'Public Holiday'], ['Saturday', 'Dashami (Dashain)', 'Public Holiday'], ['Sunday', 'Ekadashi (Dashain)', 'Public Holiday'], ['Friday', 'Laxmi Puja (Tihar)', 'Public Holiday'], ['Saturday', 'Gobhardan Pujan (Tihar)', 'Public Holiday'], ['Sunday', 'Bhai Tika (Tihar)', 'Public Holiday'], ['Thursday', 'Chhat Parwa', 'Public Holiday'], ['Sunday', 'Phalgunanda Jayanti', 'Optional Holiday'], ['Friday', 'Guru Nanak Jayanti', 'Optional Holiday'], ['Tuesday', 'International Day of Disabled Persons', 'Optional Holiday'], ['Sunday', 'Udhauli Parva', 'Optional Holiday'], ['Saturday', 'December Solstice', 'Season'], ['Wednesday', 'Christmas Day', 'Optional Holiday'], ['Monday', 'Tamu Lhosar', 'Optional Holiday']]\n"
     ]
    }
   ],
   "source": [
    "data = []\n",
    "for row in rows:\n",
    "    cells = row.find_all('td')\n",
    "    cell_data = [cell.text.strip() for cell in cells]\n",
    "    if cell_data:\n",
    "        data.append(cell_data)\n",
    "\n",
    "# Print the data to inspect\n",
    "print(f\"Data: {data}\")"
   ]
  },
  {
   "cell_type": "code",
   "execution_count": 9,
   "id": "bb4c3891",
   "metadata": {
    "execution": {
     "iopub.execute_input": "2024-05-20T01:53:29.379385Z",
     "iopub.status.busy": "2024-05-20T01:53:29.379036Z",
     "iopub.status.idle": "2024-05-20T01:53:29.384222Z",
     "shell.execute_reply": "2024-05-20T01:53:29.383101Z"
    },
    "papermill": {
     "duration": 0.012528,
     "end_time": "2024-05-20T01:53:29.386484",
     "exception": false,
     "start_time": "2024-05-20T01:53:29.373956",
     "status": "completed"
    },
    "tags": []
   },
   "outputs": [
    {
     "name": "stdout",
     "output_type": "stream",
     "text": [
      "Data: [['Friday', 'Prithvi Jayanti', 'Public Holiday'], ['Monday', 'Maghe Sankranti', 'Public Holiday'], ['Saturday', 'Sonam Losar (Tamang New Year)', 'Optional Holiday'], ['Monday', 'National Democracy Day', 'Public Holiday'], ['Friday', 'Maha Shivaratri', 'Public Holiday'], ['Friday', 'Nari Dibas', 'Public Holiday'], ['Monday', 'Gyalpo Losar', 'Optional Holiday'], ['Tuesday', 'Ramadan Start', 'Observance'], ['Wednesday', 'March Equinox', 'Season'], ['Sunday', 'Holi Purnima (Hill region)', 'Local holiday'], ['Monday', 'Holi Purnima (Terai region)', 'Local holiday'], ['Monday', 'Godhe Yatra', 'Local holiday'], ['Thursday', 'Ramjan Edul Fikra', 'Optional Holiday'], ['Saturday', 'Nepali New Year', 'Public Holiday'], ['Wednesday', 'Ram Nawami', 'Public Holiday'], ['Tuesday', \"Holiday for Emir of Qatar's Visit\", 'Public Holiday'], ['Wednesday', 'Majdoor Divas', 'Public Holiday'], ['Thursday', 'Buddha Jayanti (Tentative Date)', 'Public Holiday'], ['Thursday', 'Ubhauli Parva', 'Optional Holiday'], ['Tuesday', 'Ganatantra Diwas (Republic Day)', 'Public Holiday'], ['Monday', 'Edul Aajaha (Tentative Date)', 'Optional Holiday'], ['Friday', 'June Solstice', 'Season'], ['Monday', 'Janai Purnima', 'Public Holiday'], ['Tuesday', 'Gai Jatra', 'Public Holiday'], ['Monday', 'Gaura Parba', 'Optional Holiday'], ['Monday', 'Shree Krishna Janamashtami', 'Public Holiday'], ['Friday', 'Hartalika Teej', 'Optional Holiday'], ['Tuesday', 'Indra Jatra', 'Local holiday'], ['Thursday', 'Constitution Day', 'Public Holiday'], ['Sunday', 'September Equinox', 'Season'], ['Wednesday', 'Jitiya Parwa', 'Optional Holiday'], ['Thursday', 'Ghatasthapana', 'Public Holiday'], ['Thursday', 'Phulpati (Dashain)', 'Public Holiday'], ['Thursday', 'Astami (Dashain)', 'Public Holiday'], ['Friday', 'Nawami (Dashain)', 'Public Holiday'], ['Saturday', 'Dashami (Dashain)', 'Public Holiday'], ['Sunday', 'Ekadashi (Dashain)', 'Public Holiday'], ['Friday', 'Laxmi Puja (Tihar)', 'Public Holiday'], ['Saturday', 'Gobhardan Pujan (Tihar)', 'Public Holiday'], ['Sunday', 'Bhai Tika (Tihar)', 'Public Holiday'], ['Thursday', 'Chhat Parwa', 'Public Holiday'], ['Sunday', 'Phalgunanda Jayanti', 'Optional Holiday'], ['Friday', 'Guru Nanak Jayanti', 'Optional Holiday'], ['Tuesday', 'International Day of Disabled Persons', 'Optional Holiday'], ['Sunday', 'Udhauli Parva', 'Optional Holiday'], ['Saturday', 'December Solstice', 'Season'], ['Wednesday', 'Christmas Day', 'Optional Holiday'], ['Monday', 'Tamu Lhosar', 'Optional Holiday']]\n"
     ]
    }
   ],
   "source": [
    "print(f\"Data: {data}\")\n"
   ]
  },
  {
   "cell_type": "code",
   "execution_count": 10,
   "id": "bdabb851",
   "metadata": {
    "execution": {
     "iopub.execute_input": "2024-05-20T01:53:29.395623Z",
     "iopub.status.busy": "2024-05-20T01:53:29.395283Z",
     "iopub.status.idle": "2024-05-20T01:53:29.402889Z",
     "shell.execute_reply": "2024-05-20T01:53:29.401777Z"
    },
    "papermill": {
     "duration": 0.014793,
     "end_time": "2024-05-20T01:53:29.405031",
     "exception": false,
     "start_time": "2024-05-20T01:53:29.390238",
     "status": "completed"
    },
    "tags": []
   },
   "outputs": [],
   "source": [
    "if data:\n",
    "    if len(data[0]) != len(headers):\n",
    "        headers = headers[:len(data[0])]  # Adjust headers if there is a mismatch\n",
    "    df = pd.DataFrame(data, columns=headers)\n",
    "else:\n",
    "    df = pd.DataFrame(columns=headers)"
   ]
  },
  {
   "cell_type": "code",
   "execution_count": 11,
   "id": "4a0a55b4",
   "metadata": {
    "execution": {
     "iopub.execute_input": "2024-05-20T01:53:29.414431Z",
     "iopub.status.busy": "2024-05-20T01:53:29.413717Z",
     "iopub.status.idle": "2024-05-20T01:53:29.422218Z",
     "shell.execute_reply": "2024-05-20T01:53:29.421398Z"
    },
    "papermill": {
     "duration": 0.015328,
     "end_time": "2024-05-20T01:53:29.424256",
     "exception": false,
     "start_time": "2024-05-20T01:53:29.408928",
     "status": "completed"
    },
    "tags": []
   },
   "outputs": [],
   "source": [
    "df.to_csv('nepal_holidays_2024.csv', index=False)"
   ]
  }
 ],
 "metadata": {
  "kaggle": {
   "accelerator": "none",
   "dataSources": [],
   "dockerImageVersionId": 30698,
   "isGpuEnabled": false,
   "isInternetEnabled": true,
   "language": "python",
   "sourceType": "notebook"
  },
  "kernelspec": {
   "display_name": "Python 3",
   "language": "python",
   "name": "python3"
  },
  "language_info": {
   "codemirror_mode": {
    "name": "ipython",
    "version": 3
   },
   "file_extension": ".py",
   "mimetype": "text/x-python",
   "name": "python",
   "nbconvert_exporter": "python",
   "pygments_lexer": "ipython3",
   "version": "3.10.13"
  },
  "papermill": {
   "default_parameters": {},
   "duration": 4.589587,
   "end_time": "2024-05-20T01:53:29.946682",
   "environment_variables": {},
   "exception": null,
   "input_path": "__notebook__.ipynb",
   "output_path": "__notebook__.ipynb",
   "parameters": {},
   "start_time": "2024-05-20T01:53:25.357095",
   "version": "2.5.0"
  }
 },
 "nbformat": 4,
 "nbformat_minor": 5
}
